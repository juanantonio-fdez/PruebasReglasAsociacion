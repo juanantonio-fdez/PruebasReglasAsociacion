{
 "cells": [
  {
   "cell_type": "code",
   "execution_count": null,
   "metadata": {},
   "outputs": [],
   "source": [
    "! pip install pyfpgrowth\n",
    "import pandas as pd\n",
    "import numpy as np\n",
    "import pyfpgrowth\n",
    "\n",
    "df= pd.read_csv('./Market_Basket_Optimisation.csv',header=None)\n",
    "\n",
    "registros = []\n",
    "#for i in range(0, num_registros):\n",
    "#    registros.append([str(market.values[i,j]) for j in range(0,20)])\n",
    "\n",
    "for sublist in df.values.tolist():\n",
    "  clean_sublist = [item for item in sublist if item is not np.nan]\n",
    "  registros.append(clean_sublist)\n",
    "\n",
    "test_data = registros\n",
    "\n",
    "patterns = pyfpgrowth.find_frequent_patterns(test_data,2)\n",
    "\n",
    "rules = pyfpgrowth.generate_association_rules(patterns, 0.7)\n",
    "\n",
    "print(rules)"
   ]
  }
 ],
 "metadata": {
  "kernelspec": {
   "display_name": "Python 3",
   "language": "python",
   "name": "python3"
  },
  "language_info": {
   "codemirror_mode": {
    "name": "ipython",
    "version": 3
   },
   "file_extension": ".py",
   "mimetype": "text/x-python",
   "name": "python",
   "nbconvert_exporter": "python",
   "pygments_lexer": "ipython3",
   "version": "3.7.6"
  }
 },
 "nbformat": 4,
 "nbformat_minor": 4
}
